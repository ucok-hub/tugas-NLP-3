{
  "nbformat": 4,
  "nbformat_minor": 0,
  "metadata": {
    "colab": {
      "provenance": [],
      "authorship_tag": "ABX9TyMC8zc6ZR8LiwdSv0kxTwPf",
      "include_colab_link": true
    },
    "kernelspec": {
      "name": "python3",
      "display_name": "Python 3"
    },
    "language_info": {
      "name": "python"
    }
  },
  "cells": [
    {
      "cell_type": "markdown",
      "metadata": {
        "id": "view-in-github",
        "colab_type": "text"
      },
      "source": [
        "<a href=\"https://colab.research.google.com/github/ucok-hub/tugas-NLP-3/blob/master/TUGAS_NLP_12_MARET_MODUL.ipynb\" target=\"_parent\"><img src=\"https://colab.research.google.com/assets/colab-badge.svg\" alt=\"Open In Colab\"/></a>"
      ]
    },
    {
      "cell_type": "markdown",
      "source": [
        "EXTRACTING NOUN PHRASES"
      ],
      "metadata": {
        "id": "1Vtdr1-E9gFt"
      }
    },
    {
      "cell_type": "code",
      "source": [
        "#Import libraries\n",
        "!pip install nltk\n",
        "!pip install brown\n",
        "import nltk\n",
        "nltk.download('punkt_tab')\n",
        "nltk.download('brown')\n",
        "nltk.download('punkt')\n",
        "from nltk.corpus import brown\n",
        "from nltk.tokenize import word_tokenize\n",
        "from textblob import TextBlob\n",
        "#Extract noun\n",
        "blob = TextBlob(\"John is learning natural language processing\")\n",
        "for np in blob.noun_phrases:\n",
        "  print(np)\n"
      ],
      "metadata": {
        "colab": {
          "base_uri": "https://localhost:8080/"
        },
        "id": "KHtsPBPE9eoT",
        "outputId": "ad04b670-b69e-47c1-be5e-81a8a1fc2eb0"
      },
      "execution_count": null,
      "outputs": [
        {
          "output_type": "stream",
          "name": "stdout",
          "text": [
            "Requirement already satisfied: nltk in /usr/local/lib/python3.11/dist-packages (3.9.1)\n",
            "Requirement already satisfied: click in /usr/local/lib/python3.11/dist-packages (from nltk) (8.1.8)\n",
            "Requirement already satisfied: joblib in /usr/local/lib/python3.11/dist-packages (from nltk) (1.4.2)\n",
            "Requirement already satisfied: regex>=2021.8.3 in /usr/local/lib/python3.11/dist-packages (from nltk) (2024.11.6)\n",
            "Requirement already satisfied: tqdm in /usr/local/lib/python3.11/dist-packages (from nltk) (4.67.1)\n",
            "Requirement already satisfied: brown in /usr/local/lib/python3.11/dist-packages (0.0.1)\n"
          ]
        },
        {
          "output_type": "stream",
          "name": "stderr",
          "text": [
            "[nltk_data] Downloading package punkt_tab to /root/nltk_data...\n",
            "[nltk_data]   Unzipping tokenizers/punkt_tab.zip.\n"
          ]
        },
        {
          "output_type": "stream",
          "name": "stdout",
          "text": [
            "john\n",
            "natural language processing\n"
          ]
        },
        {
          "output_type": "stream",
          "name": "stderr",
          "text": [
            "[nltk_data] Downloading package brown to /root/nltk_data...\n",
            "[nltk_data]   Package brown is already up-to-date!\n",
            "[nltk_data] Downloading package punkt to /root/nltk_data...\n",
            "[nltk_data]   Package punkt is already up-to-date!\n"
          ]
        }
      ]
    },
    {
      "cell_type": "markdown",
      "source": [
        "FINDING SIMILARITY BETWEEN TEXTS"
      ],
      "metadata": {
        "id": "k8gbs7LcULxj"
      }
    },
    {
      "cell_type": "code",
      "source": [
        "# Import libraries\n",
        "from sklearn.feature_extraction.text import TfidfVectorizer\n",
        "from sklearn.metrics.pairwise import cosine_similarity\n",
        "\n",
        "# Step 2-1: Create/read the text data\n",
        "documents = [\n",
        "    \"I like NLP\",\n",
        "    \"I am exploring NLP\",\n",
        "    \"I am a beginner in NLP\",\n",
        "    \"I want to learn NLP\",\n",
        "    \"I like advanced NLP\"\n",
        "]\n",
        "\n",
        "# Step 2-2: Compute TF-IDF\n",
        "tfidf_vectorizer = TfidfVectorizer()\n",
        "tfidf_matrix = tfidf_vectorizer.fit_transform(documents)\n",
        "\n",
        "# Print shape of the matrix\n",
        "print(\"Shape of TF-IDF matrix:\", tfidf_matrix.shape)\n",
        "\n",
        "# Compute similarity for the first sentence with the rest\n",
        "similarity_scores = cosine_similarity(tfidf_matrix[0:1], tfidf_matrix)\n",
        "\n",
        "# Print similarity scores\n",
        "print(\"Cosine similarity scores:\")\n",
        "print(similarity_scores)\n"
      ],
      "metadata": {
        "colab": {
          "base_uri": "https://localhost:8080/"
        },
        "id": "hRVoyvJUUQnV",
        "outputId": "b8587626-6c3c-4594-b509-bd6b45b3b7de"
      },
      "execution_count": null,
      "outputs": [
        {
          "output_type": "stream",
          "name": "stdout",
          "text": [
            "Shape of TF-IDF matrix: (5, 10)\n",
            "Cosine similarity scores:\n",
            "[[1.         0.17682765 0.14284054 0.13489366 0.68374784]]\n"
          ]
        }
      ]
    },
    {
      "cell_type": "markdown",
      "source": [
        "TAGGING PART OF SPEECH"
      ],
      "metadata": {
        "id": "oqDAuPIqVN08"
      }
    },
    {
      "cell_type": "code",
      "source": [
        "# Importing necessary packages\n",
        "import nltk\n",
        "from nltk.tokenize import word_tokenize, sent_tokenize\n",
        "from nltk.corpus import stopwords\n",
        "\n",
        "# Download necessary NLTK resources\n",
        "nltk.download('averaged_perceptron_tagger_eng')\n",
        "nltk.download('punkt')\n",
        "nltk.download('averaged_perceptron_tagger')\n",
        "nltk.download('stopwords')\n",
        "\n",
        "# Step 3-1: Store the text in a variable\n",
        "text = \"I love NLP and I will learn NLP in 2 months\"\n",
        "\n",
        "# Step 3-2: Tokenize the text into sentences\n",
        "sentences = sent_tokenize(text)\n",
        "\n",
        "# Remove stopwords and perform POS tagging\n",
        "stop_words = set(stopwords.words('english'))\n",
        "for sentence in sentences:\n",
        "    words = word_tokenize(sentence)  # Tokenize words\n",
        "    words = [w for w in words if w.lower() not in stop_words]  # Remove stopwords\n",
        "    tags = nltk.pos_tag(words)  # POS tagging\n",
        "    print(tags)  # Print the result"
      ],
      "metadata": {
        "colab": {
          "base_uri": "https://localhost:8080/"
        },
        "id": "d6UoTDhBVRmv",
        "outputId": "fee5b858-1645-4f1b-cd1c-ab2fa27d85c8"
      },
      "execution_count": null,
      "outputs": [
        {
          "output_type": "stream",
          "name": "stderr",
          "text": [
            "[nltk_data] Downloading package averaged_perceptron_tagger_eng to\n",
            "[nltk_data]     /root/nltk_data...\n",
            "[nltk_data]   Unzipping taggers/averaged_perceptron_tagger_eng.zip.\n",
            "[nltk_data] Downloading package punkt to /root/nltk_data...\n",
            "[nltk_data]   Package punkt is already up-to-date!\n",
            "[nltk_data] Downloading package averaged_perceptron_tagger to\n",
            "[nltk_data]     /root/nltk_data...\n",
            "[nltk_data]   Package averaged_perceptron_tagger is already up-to-\n",
            "[nltk_data]       date!\n",
            "[nltk_data] Downloading package stopwords to /root/nltk_data...\n",
            "[nltk_data]   Package stopwords is already up-to-date!\n"
          ]
        },
        {
          "output_type": "stream",
          "name": "stdout",
          "text": [
            "[('love', 'NN'), ('NLP', 'NNP'), ('learn', 'NN'), ('NLP', 'NNP'), ('2', 'CD'), ('months', 'NNS')]\n"
          ]
        }
      ]
    },
    {
      "cell_type": "markdown",
      "source": [
        "EXTRACT ENTITIES FROM TEXT"
      ],
      "metadata": {
        "id": "dmzz8LzAWG55"
      }
    },
    {
      "cell_type": "code",
      "source": [
        "# Import library\n",
        "!pip install spacy\n",
        "!python -m spacy download en_core_web_sm\n",
        "\n",
        "import nltk\n",
        "from nltk import ne_chunk, pos_tag, word_tokenize\n",
        "\n",
        "# Download data yang diperlukan\n",
        "nltk.download('maxent_ne_chunker_tab')\n",
        "nltk.download('punkt')\n",
        "nltk.download('maxent_ne_chunker')\n",
        "nltk.download('words')\n",
        "nltk.download('averaged_perceptron_tagger')\n",
        "\n",
        "# Step 4-1: Read/create the text data\n",
        "sent = \"John is studying at Stanford University in California\"\n",
        "\n",
        "# Step 4-2: Extract the entities\n",
        "entities = ne_chunk(pos_tag(word_tokenize(sent)))\n",
        "\n",
        "# Print hasilnya\n",
        "print(entities)\n"
      ],
      "metadata": {
        "colab": {
          "base_uri": "https://localhost:8080/"
        },
        "id": "J1Ythar0WJ_z",
        "outputId": "2bc63264-dcaa-4e00-8a83-ae15211ac2fa"
      },
      "execution_count": null,
      "outputs": [
        {
          "output_type": "stream",
          "name": "stdout",
          "text": [
            "Requirement already satisfied: spacy in /usr/local/lib/python3.11/dist-packages (3.7.5)\n",
            "Requirement already satisfied: spacy-legacy<3.1.0,>=3.0.11 in /usr/local/lib/python3.11/dist-packages (from spacy) (3.0.12)\n",
            "Requirement already satisfied: spacy-loggers<2.0.0,>=1.0.0 in /usr/local/lib/python3.11/dist-packages (from spacy) (1.0.5)\n",
            "Requirement already satisfied: murmurhash<1.1.0,>=0.28.0 in /usr/local/lib/python3.11/dist-packages (from spacy) (1.0.12)\n",
            "Requirement already satisfied: cymem<2.1.0,>=2.0.2 in /usr/local/lib/python3.11/dist-packages (from spacy) (2.0.11)\n",
            "Requirement already satisfied: preshed<3.1.0,>=3.0.2 in /usr/local/lib/python3.11/dist-packages (from spacy) (3.0.9)\n",
            "Requirement already satisfied: thinc<8.3.0,>=8.2.2 in /usr/local/lib/python3.11/dist-packages (from spacy) (8.2.5)\n",
            "Requirement already satisfied: wasabi<1.2.0,>=0.9.1 in /usr/local/lib/python3.11/dist-packages (from spacy) (1.1.3)\n",
            "Requirement already satisfied: srsly<3.0.0,>=2.4.3 in /usr/local/lib/python3.11/dist-packages (from spacy) (2.5.1)\n",
            "Requirement already satisfied: catalogue<2.1.0,>=2.0.6 in /usr/local/lib/python3.11/dist-packages (from spacy) (2.0.10)\n",
            "Requirement already satisfied: weasel<0.5.0,>=0.1.0 in /usr/local/lib/python3.11/dist-packages (from spacy) (0.4.1)\n",
            "Requirement already satisfied: typer<1.0.0,>=0.3.0 in /usr/local/lib/python3.11/dist-packages (from spacy) (0.15.2)\n",
            "Requirement already satisfied: tqdm<5.0.0,>=4.38.0 in /usr/local/lib/python3.11/dist-packages (from spacy) (4.67.1)\n",
            "Requirement already satisfied: requests<3.0.0,>=2.13.0 in /usr/local/lib/python3.11/dist-packages (from spacy) (2.32.3)\n",
            "Requirement already satisfied: pydantic!=1.8,!=1.8.1,<3.0.0,>=1.7.4 in /usr/local/lib/python3.11/dist-packages (from spacy) (2.10.6)\n",
            "Requirement already satisfied: jinja2 in /usr/local/lib/python3.11/dist-packages (from spacy) (3.1.6)\n",
            "Requirement already satisfied: setuptools in /usr/local/lib/python3.11/dist-packages (from spacy) (75.1.0)\n",
            "Requirement already satisfied: packaging>=20.0 in /usr/local/lib/python3.11/dist-packages (from spacy) (24.2)\n",
            "Requirement already satisfied: langcodes<4.0.0,>=3.2.0 in /usr/local/lib/python3.11/dist-packages (from spacy) (3.5.0)\n",
            "Requirement already satisfied: numpy>=1.19.0 in /usr/local/lib/python3.11/dist-packages (from spacy) (1.26.4)\n",
            "Requirement already satisfied: language-data>=1.2 in /usr/local/lib/python3.11/dist-packages (from langcodes<4.0.0,>=3.2.0->spacy) (1.3.0)\n",
            "Requirement already satisfied: annotated-types>=0.6.0 in /usr/local/lib/python3.11/dist-packages (from pydantic!=1.8,!=1.8.1,<3.0.0,>=1.7.4->spacy) (0.7.0)\n",
            "Requirement already satisfied: pydantic-core==2.27.2 in /usr/local/lib/python3.11/dist-packages (from pydantic!=1.8,!=1.8.1,<3.0.0,>=1.7.4->spacy) (2.27.2)\n",
            "Requirement already satisfied: typing-extensions>=4.12.2 in /usr/local/lib/python3.11/dist-packages (from pydantic!=1.8,!=1.8.1,<3.0.0,>=1.7.4->spacy) (4.12.2)\n",
            "Requirement already satisfied: charset-normalizer<4,>=2 in /usr/local/lib/python3.11/dist-packages (from requests<3.0.0,>=2.13.0->spacy) (3.4.1)\n",
            "Requirement already satisfied: idna<4,>=2.5 in /usr/local/lib/python3.11/dist-packages (from requests<3.0.0,>=2.13.0->spacy) (3.10)\n",
            "Requirement already satisfied: urllib3<3,>=1.21.1 in /usr/local/lib/python3.11/dist-packages (from requests<3.0.0,>=2.13.0->spacy) (2.3.0)\n",
            "Requirement already satisfied: certifi>=2017.4.17 in /usr/local/lib/python3.11/dist-packages (from requests<3.0.0,>=2.13.0->spacy) (2025.1.31)\n",
            "Requirement already satisfied: blis<0.8.0,>=0.7.8 in /usr/local/lib/python3.11/dist-packages (from thinc<8.3.0,>=8.2.2->spacy) (0.7.11)\n",
            "Requirement already satisfied: confection<1.0.0,>=0.0.1 in /usr/local/lib/python3.11/dist-packages (from thinc<8.3.0,>=8.2.2->spacy) (0.1.5)\n",
            "Requirement already satisfied: click>=8.0.0 in /usr/local/lib/python3.11/dist-packages (from typer<1.0.0,>=0.3.0->spacy) (8.1.8)\n",
            "Requirement already satisfied: shellingham>=1.3.0 in /usr/local/lib/python3.11/dist-packages (from typer<1.0.0,>=0.3.0->spacy) (1.5.4)\n",
            "Requirement already satisfied: rich>=10.11.0 in /usr/local/lib/python3.11/dist-packages (from typer<1.0.0,>=0.3.0->spacy) (13.9.4)\n",
            "Requirement already satisfied: cloudpathlib<1.0.0,>=0.7.0 in /usr/local/lib/python3.11/dist-packages (from weasel<0.5.0,>=0.1.0->spacy) (0.21.0)\n",
            "Requirement already satisfied: smart-open<8.0.0,>=5.2.1 in /usr/local/lib/python3.11/dist-packages (from weasel<0.5.0,>=0.1.0->spacy) (7.1.0)\n",
            "Requirement already satisfied: MarkupSafe>=2.0 in /usr/local/lib/python3.11/dist-packages (from jinja2->spacy) (3.0.2)\n",
            "Requirement already satisfied: marisa-trie>=1.1.0 in /usr/local/lib/python3.11/dist-packages (from language-data>=1.2->langcodes<4.0.0,>=3.2.0->spacy) (1.2.1)\n",
            "Requirement already satisfied: markdown-it-py>=2.2.0 in /usr/local/lib/python3.11/dist-packages (from rich>=10.11.0->typer<1.0.0,>=0.3.0->spacy) (3.0.0)\n",
            "Requirement already satisfied: pygments<3.0.0,>=2.13.0 in /usr/local/lib/python3.11/dist-packages (from rich>=10.11.0->typer<1.0.0,>=0.3.0->spacy) (2.18.0)\n",
            "Requirement already satisfied: wrapt in /usr/local/lib/python3.11/dist-packages (from smart-open<8.0.0,>=5.2.1->weasel<0.5.0,>=0.1.0->spacy) (1.17.2)\n",
            "Requirement already satisfied: mdurl~=0.1 in /usr/local/lib/python3.11/dist-packages (from markdown-it-py>=2.2.0->rich>=10.11.0->typer<1.0.0,>=0.3.0->spacy) (0.1.2)\n",
            "Collecting en-core-web-sm==3.7.1\n",
            "  Using cached https://github.com/explosion/spacy-models/releases/download/en_core_web_sm-3.7.1/en_core_web_sm-3.7.1-py3-none-any.whl (12.8 MB)\n",
            "Requirement already satisfied: spacy<3.8.0,>=3.7.2 in /usr/local/lib/python3.11/dist-packages (from en-core-web-sm==3.7.1) (3.7.5)\n",
            "Requirement already satisfied: spacy-legacy<3.1.0,>=3.0.11 in /usr/local/lib/python3.11/dist-packages (from spacy<3.8.0,>=3.7.2->en-core-web-sm==3.7.1) (3.0.12)\n",
            "Requirement already satisfied: spacy-loggers<2.0.0,>=1.0.0 in /usr/local/lib/python3.11/dist-packages (from spacy<3.8.0,>=3.7.2->en-core-web-sm==3.7.1) (1.0.5)\n",
            "Requirement already satisfied: murmurhash<1.1.0,>=0.28.0 in /usr/local/lib/python3.11/dist-packages (from spacy<3.8.0,>=3.7.2->en-core-web-sm==3.7.1) (1.0.12)\n",
            "Requirement already satisfied: cymem<2.1.0,>=2.0.2 in /usr/local/lib/python3.11/dist-packages (from spacy<3.8.0,>=3.7.2->en-core-web-sm==3.7.1) (2.0.11)\n",
            "Requirement already satisfied: preshed<3.1.0,>=3.0.2 in /usr/local/lib/python3.11/dist-packages (from spacy<3.8.0,>=3.7.2->en-core-web-sm==3.7.1) (3.0.9)\n",
            "Requirement already satisfied: thinc<8.3.0,>=8.2.2 in /usr/local/lib/python3.11/dist-packages (from spacy<3.8.0,>=3.7.2->en-core-web-sm==3.7.1) (8.2.5)\n",
            "Requirement already satisfied: wasabi<1.2.0,>=0.9.1 in /usr/local/lib/python3.11/dist-packages (from spacy<3.8.0,>=3.7.2->en-core-web-sm==3.7.1) (1.1.3)\n",
            "Requirement already satisfied: srsly<3.0.0,>=2.4.3 in /usr/local/lib/python3.11/dist-packages (from spacy<3.8.0,>=3.7.2->en-core-web-sm==3.7.1) (2.5.1)\n",
            "Requirement already satisfied: catalogue<2.1.0,>=2.0.6 in /usr/local/lib/python3.11/dist-packages (from spacy<3.8.0,>=3.7.2->en-core-web-sm==3.7.1) (2.0.10)\n",
            "Requirement already satisfied: weasel<0.5.0,>=0.1.0 in /usr/local/lib/python3.11/dist-packages (from spacy<3.8.0,>=3.7.2->en-core-web-sm==3.7.1) (0.4.1)\n",
            "Requirement already satisfied: typer<1.0.0,>=0.3.0 in /usr/local/lib/python3.11/dist-packages (from spacy<3.8.0,>=3.7.2->en-core-web-sm==3.7.1) (0.15.2)\n",
            "Requirement already satisfied: tqdm<5.0.0,>=4.38.0 in /usr/local/lib/python3.11/dist-packages (from spacy<3.8.0,>=3.7.2->en-core-web-sm==3.7.1) (4.67.1)\n",
            "Requirement already satisfied: requests<3.0.0,>=2.13.0 in /usr/local/lib/python3.11/dist-packages (from spacy<3.8.0,>=3.7.2->en-core-web-sm==3.7.1) (2.32.3)\n",
            "Requirement already satisfied: pydantic!=1.8,!=1.8.1,<3.0.0,>=1.7.4 in /usr/local/lib/python3.11/dist-packages (from spacy<3.8.0,>=3.7.2->en-core-web-sm==3.7.1) (2.10.6)\n",
            "Requirement already satisfied: jinja2 in /usr/local/lib/python3.11/dist-packages (from spacy<3.8.0,>=3.7.2->en-core-web-sm==3.7.1) (3.1.6)\n",
            "Requirement already satisfied: setuptools in /usr/local/lib/python3.11/dist-packages (from spacy<3.8.0,>=3.7.2->en-core-web-sm==3.7.1) (75.1.0)\n",
            "Requirement already satisfied: packaging>=20.0 in /usr/local/lib/python3.11/dist-packages (from spacy<3.8.0,>=3.7.2->en-core-web-sm==3.7.1) (24.2)\n",
            "Requirement already satisfied: langcodes<4.0.0,>=3.2.0 in /usr/local/lib/python3.11/dist-packages (from spacy<3.8.0,>=3.7.2->en-core-web-sm==3.7.1) (3.5.0)\n",
            "Requirement already satisfied: numpy>=1.19.0 in /usr/local/lib/python3.11/dist-packages (from spacy<3.8.0,>=3.7.2->en-core-web-sm==3.7.1) (1.26.4)\n",
            "Requirement already satisfied: language-data>=1.2 in /usr/local/lib/python3.11/dist-packages (from langcodes<4.0.0,>=3.2.0->spacy<3.8.0,>=3.7.2->en-core-web-sm==3.7.1) (1.3.0)\n",
            "Requirement already satisfied: annotated-types>=0.6.0 in /usr/local/lib/python3.11/dist-packages (from pydantic!=1.8,!=1.8.1,<3.0.0,>=1.7.4->spacy<3.8.0,>=3.7.2->en-core-web-sm==3.7.1) (0.7.0)\n",
            "Requirement already satisfied: pydantic-core==2.27.2 in /usr/local/lib/python3.11/dist-packages (from pydantic!=1.8,!=1.8.1,<3.0.0,>=1.7.4->spacy<3.8.0,>=3.7.2->en-core-web-sm==3.7.1) (2.27.2)\n",
            "Requirement already satisfied: typing-extensions>=4.12.2 in /usr/local/lib/python3.11/dist-packages (from pydantic!=1.8,!=1.8.1,<3.0.0,>=1.7.4->spacy<3.8.0,>=3.7.2->en-core-web-sm==3.7.1) (4.12.2)\n",
            "Requirement already satisfied: charset-normalizer<4,>=2 in /usr/local/lib/python3.11/dist-packages (from requests<3.0.0,>=2.13.0->spacy<3.8.0,>=3.7.2->en-core-web-sm==3.7.1) (3.4.1)\n",
            "Requirement already satisfied: idna<4,>=2.5 in /usr/local/lib/python3.11/dist-packages (from requests<3.0.0,>=2.13.0->spacy<3.8.0,>=3.7.2->en-core-web-sm==3.7.1) (3.10)\n",
            "Requirement already satisfied: urllib3<3,>=1.21.1 in /usr/local/lib/python3.11/dist-packages (from requests<3.0.0,>=2.13.0->spacy<3.8.0,>=3.7.2->en-core-web-sm==3.7.1) (2.3.0)\n",
            "Requirement already satisfied: certifi>=2017.4.17 in /usr/local/lib/python3.11/dist-packages (from requests<3.0.0,>=2.13.0->spacy<3.8.0,>=3.7.2->en-core-web-sm==3.7.1) (2025.1.31)\n",
            "Requirement already satisfied: blis<0.8.0,>=0.7.8 in /usr/local/lib/python3.11/dist-packages (from thinc<8.3.0,>=8.2.2->spacy<3.8.0,>=3.7.2->en-core-web-sm==3.7.1) (0.7.11)\n",
            "Requirement already satisfied: confection<1.0.0,>=0.0.1 in /usr/local/lib/python3.11/dist-packages (from thinc<8.3.0,>=8.2.2->spacy<3.8.0,>=3.7.2->en-core-web-sm==3.7.1) (0.1.5)\n",
            "Requirement already satisfied: click>=8.0.0 in /usr/local/lib/python3.11/dist-packages (from typer<1.0.0,>=0.3.0->spacy<3.8.0,>=3.7.2->en-core-web-sm==3.7.1) (8.1.8)\n",
            "Requirement already satisfied: shellingham>=1.3.0 in /usr/local/lib/python3.11/dist-packages (from typer<1.0.0,>=0.3.0->spacy<3.8.0,>=3.7.2->en-core-web-sm==3.7.1) (1.5.4)\n",
            "Requirement already satisfied: rich>=10.11.0 in /usr/local/lib/python3.11/dist-packages (from typer<1.0.0,>=0.3.0->spacy<3.8.0,>=3.7.2->en-core-web-sm==3.7.1) (13.9.4)\n",
            "Requirement already satisfied: cloudpathlib<1.0.0,>=0.7.0 in /usr/local/lib/python3.11/dist-packages (from weasel<0.5.0,>=0.1.0->spacy<3.8.0,>=3.7.2->en-core-web-sm==3.7.1) (0.21.0)\n",
            "Requirement already satisfied: smart-open<8.0.0,>=5.2.1 in /usr/local/lib/python3.11/dist-packages (from weasel<0.5.0,>=0.1.0->spacy<3.8.0,>=3.7.2->en-core-web-sm==3.7.1) (7.1.0)\n",
            "Requirement already satisfied: MarkupSafe>=2.0 in /usr/local/lib/python3.11/dist-packages (from jinja2->spacy<3.8.0,>=3.7.2->en-core-web-sm==3.7.1) (3.0.2)\n",
            "Requirement already satisfied: marisa-trie>=1.1.0 in /usr/local/lib/python3.11/dist-packages (from language-data>=1.2->langcodes<4.0.0,>=3.2.0->spacy<3.8.0,>=3.7.2->en-core-web-sm==3.7.1) (1.2.1)\n",
            "Requirement already satisfied: markdown-it-py>=2.2.0 in /usr/local/lib/python3.11/dist-packages (from rich>=10.11.0->typer<1.0.0,>=0.3.0->spacy<3.8.0,>=3.7.2->en-core-web-sm==3.7.1) (3.0.0)\n",
            "Requirement already satisfied: pygments<3.0.0,>=2.13.0 in /usr/local/lib/python3.11/dist-packages (from rich>=10.11.0->typer<1.0.0,>=0.3.0->spacy<3.8.0,>=3.7.2->en-core-web-sm==3.7.1) (2.18.0)\n",
            "Requirement already satisfied: wrapt in /usr/local/lib/python3.11/dist-packages (from smart-open<8.0.0,>=5.2.1->weasel<0.5.0,>=0.1.0->spacy<3.8.0,>=3.7.2->en-core-web-sm==3.7.1) (1.17.2)\n",
            "Requirement already satisfied: mdurl~=0.1 in /usr/local/lib/python3.11/dist-packages (from markdown-it-py>=2.2.0->rich>=10.11.0->typer<1.0.0,>=0.3.0->spacy<3.8.0,>=3.7.2->en-core-web-sm==3.7.1) (0.1.2)\n",
            "\u001b[38;5;2m✔ Download and installation successful\u001b[0m\n",
            "You can now load the package via spacy.load('en_core_web_sm')\n",
            "\u001b[38;5;3m⚠ Restart to reload dependencies\u001b[0m\n",
            "If you are in a Jupyter or Colab notebook, you may need to restart Python in\n",
            "order to load all the package's dependencies. You can do this by selecting the\n",
            "'Restart kernel' or 'Restart runtime' option.\n"
          ]
        },
        {
          "output_type": "stream",
          "name": "stderr",
          "text": [
            "[nltk_data] Downloading package maxent_ne_chunker_tab to\n",
            "[nltk_data]     /root/nltk_data...\n",
            "[nltk_data]   Unzipping chunkers/maxent_ne_chunker_tab.zip.\n",
            "[nltk_data] Downloading package punkt to /root/nltk_data...\n",
            "[nltk_data]   Package punkt is already up-to-date!\n",
            "[nltk_data] Downloading package maxent_ne_chunker to\n",
            "[nltk_data]     /root/nltk_data...\n",
            "[nltk_data]   Package maxent_ne_chunker is already up-to-date!\n",
            "[nltk_data] Downloading package words to /root/nltk_data...\n",
            "[nltk_data]   Package words is already up-to-date!\n",
            "[nltk_data] Downloading package averaged_perceptron_tagger to\n",
            "[nltk_data]     /root/nltk_data...\n",
            "[nltk_data]   Package averaged_perceptron_tagger is already up-to-\n",
            "[nltk_data]       date!\n"
          ]
        },
        {
          "output_type": "stream",
          "name": "stdout",
          "text": [
            "(S\n",
            "  (PERSON John/NNP)\n",
            "  is/VBZ\n",
            "  studying/VBG\n",
            "  at/IN\n",
            "  (ORGANIZATION Stanford/NNP University/NNP)\n",
            "  in/IN\n",
            "  (GPE California/NNP))\n"
          ]
        }
      ]
    },
    {
      "cell_type": "markdown",
      "source": [
        "EXTRACTING TOPIC FROM TEXT"
      ],
      "metadata": {
        "id": "0QEWNk5NW2g3"
      }
    },
    {
      "cell_type": "code",
      "source": [
        "# Install gensim jika belum terinstal\n",
        "!pip install gensim\n",
        "\n",
        "# Import library yang diperlukan\n",
        "import gensim\n",
        "from gensim import corpora\n",
        "import nltk\n",
        "from nltk.corpus import stopwords\n",
        "from nltk.stem.wordnet import WordNetLemmatizer\n",
        "import string\n",
        "\n",
        "# Download dataset NLTK yang diperlukan\n",
        "nltk.download('stopwords')\n",
        "nltk.download('wordnet')\n",
        "\n",
        "\n",
        "# Dataset teks\n",
        "doc1 = \"I am learning NLP, it is very interesting and exciting. it includes machine learning and deep learning\"\n",
        "doc2 = \"My father is a data scientist and he is NLP expert\"\n",
        "doc3 = \"My sister has good exposure into android development\"\n",
        "doc_complete = [doc1, doc2, doc3]\n",
        "\n",
        "\n",
        "# Definisi stopwords, lemmatizer, dan karakter yang dihapus\n",
        "stop = set(stopwords.words('english'))\n",
        "exclude = set(string.punctuation)\n",
        "lemma = WordNetLemmatizer()\n",
        "\n",
        "# Fungsi untuk membersihkan teks\n",
        "def clean(doc):\n",
        "    stop_free = \" \".join([word for word in doc.lower().split() if word not in stop])\n",
        "    punc_free = \"\".join([char for char in stop_free if char not in exclude])\n",
        "    normalized = \" \".join([lemma.lemmatize(word) for word in punc_free.split()])\n",
        "    return normalized\n",
        "\n",
        "# Membersihkan dokumen\n",
        "doc_clean = [clean(doc).split() for doc in doc_complete]\n",
        "\n",
        "# Cek hasil preprocessing\n",
        "print(doc_clean)\n",
        "\n",
        "\n",
        "# Membuat dictionary untuk corpus\n",
        "dictionary = corpora.Dictionary(doc_clean)\n",
        "\n",
        "# Mengonversi dokumen ke bentuk Bag of Words (BoW)\n",
        "doc_term_matrix = [dictionary.doc2bow(doc) for doc in doc_clean]\n",
        "\n",
        "# Cek hasilnya\n",
        "print(doc_term_matrix)\n",
        "\n",
        "\n",
        "# Membuat model LDA\n",
        "Lda = gensim.models.ldamodel.LdaModel\n",
        "\n",
        "# Melatih model LDA dengan 3 topik\n",
        "ldamodel = Lda(doc_term_matrix, num_topics=3, id2word=dictionary, passes=50)\n",
        "\n",
        "# Menampilkan hasil topik\n",
        "print(ldamodel.print_topics())\n"
      ],
      "metadata": {
        "colab": {
          "base_uri": "https://localhost:8080/"
        },
        "id": "jGz5m6G1W4N5",
        "outputId": "31c52baf-9d00-4fe0-8652-87acba51d04f"
      },
      "execution_count": null,
      "outputs": [
        {
          "output_type": "stream",
          "name": "stdout",
          "text": [
            "Collecting gensim\n",
            "  Downloading gensim-4.3.3-cp311-cp311-manylinux_2_17_x86_64.manylinux2014_x86_64.whl.metadata (8.1 kB)\n",
            "Requirement already satisfied: numpy<2.0,>=1.18.5 in /usr/local/lib/python3.11/dist-packages (from gensim) (1.26.4)\n",
            "Collecting scipy<1.14.0,>=1.7.0 (from gensim)\n",
            "  Downloading scipy-1.13.1-cp311-cp311-manylinux_2_17_x86_64.manylinux2014_x86_64.whl.metadata (60 kB)\n",
            "\u001b[2K     \u001b[90m━━━━━━━━━━━━━━━━━━━━━━━━━━━━━━━━━━━━━━━━\u001b[0m \u001b[32m60.6/60.6 kB\u001b[0m \u001b[31m3.9 MB/s\u001b[0m eta \u001b[36m0:00:00\u001b[0m\n",
            "\u001b[?25hRequirement already satisfied: smart-open>=1.8.1 in /usr/local/lib/python3.11/dist-packages (from gensim) (7.1.0)\n",
            "Requirement already satisfied: wrapt in /usr/local/lib/python3.11/dist-packages (from smart-open>=1.8.1->gensim) (1.17.2)\n",
            "Downloading gensim-4.3.3-cp311-cp311-manylinux_2_17_x86_64.manylinux2014_x86_64.whl (26.7 MB)\n",
            "\u001b[2K   \u001b[90m━━━━━━━━━━━━━━━━━━━━━━━━━━━━━━━━━━━━━━━━\u001b[0m \u001b[32m26.7/26.7 MB\u001b[0m \u001b[31m40.9 MB/s\u001b[0m eta \u001b[36m0:00:00\u001b[0m\n",
            "\u001b[?25hDownloading scipy-1.13.1-cp311-cp311-manylinux_2_17_x86_64.manylinux2014_x86_64.whl (38.6 MB)\n",
            "\u001b[2K   \u001b[90m━━━━━━━━━━━━━━━━━━━━━━━━━━━━━━━━━━━━━━━━\u001b[0m \u001b[32m38.6/38.6 MB\u001b[0m \u001b[31m17.1 MB/s\u001b[0m eta \u001b[36m0:00:00\u001b[0m\n",
            "\u001b[?25hInstalling collected packages: scipy, gensim\n",
            "  Attempting uninstall: scipy\n",
            "    Found existing installation: scipy 1.14.1\n",
            "    Uninstalling scipy-1.14.1:\n",
            "      Successfully uninstalled scipy-1.14.1\n",
            "Successfully installed gensim-4.3.3 scipy-1.13.1\n"
          ]
        },
        {
          "output_type": "stream",
          "name": "stderr",
          "text": [
            "[nltk_data] Downloading package stopwords to /root/nltk_data...\n",
            "[nltk_data]   Package stopwords is already up-to-date!\n",
            "[nltk_data] Downloading package wordnet to /root/nltk_data...\n"
          ]
        },
        {
          "output_type": "stream",
          "name": "stdout",
          "text": [
            "[['learning', 'nlp', 'interesting', 'exciting', 'includes', 'machine', 'learning', 'deep', 'learning'], ['father', 'data', 'scientist', 'nlp', 'expert'], ['sister', 'good', 'exposure', 'android', 'development']]\n",
            "[[(0, 1), (1, 1), (2, 1), (3, 1), (4, 3), (5, 1), (6, 1)], [(6, 1), (7, 1), (8, 1), (9, 1), (10, 1)], [(11, 1), (12, 1), (13, 1), (14, 1), (15, 1)]]\n",
            "[(0, '0.129*\"nlp\" + 0.129*\"father\" + 0.129*\"data\" + 0.129*\"scientist\" + 0.129*\"expert\" + 0.032*\"good\" + 0.032*\"exposure\" + 0.032*\"development\" + 0.032*\"android\" + 0.032*\"sister\"'), (1, '0.233*\"learning\" + 0.093*\"deep\" + 0.093*\"includes\" + 0.093*\"interesting\" + 0.093*\"machine\" + 0.093*\"exciting\" + 0.093*\"nlp\" + 0.023*\"father\" + 0.023*\"scientist\" + 0.023*\"data\"'), (2, '0.129*\"sister\" + 0.129*\"good\" + 0.129*\"exposure\" + 0.129*\"development\" + 0.129*\"android\" + 0.032*\"nlp\" + 0.032*\"father\" + 0.032*\"scientist\" + 0.032*\"data\" + 0.032*\"expert\"')]\n"
          ]
        }
      ]
    },
    {
      "cell_type": "markdown",
      "source": [
        "CLASSIFYING TEXT"
      ],
      "metadata": {
        "id": "rHOi43TBXXn6"
      }
    },
    {
      "cell_type": "code",
      "source": [
        "# Install library jika diperlukan\n",
        "!pip install textblob\n",
        "\n",
        "from google.colab import files\n",
        "uploaded = files.upload()\n",
        "\n",
        "\n",
        "\n",
        "# Import library yang diperlukan\n",
        "import numpy as np\n",
        "import pandas as pd\n",
        "import matplotlib.pyplot as plt\n",
        "import string\n",
        "import nltk\n",
        "from nltk.corpus import stopwords\n",
        "from nltk.stem import PorterStemmer\n",
        "from textblob import Word\n",
        "from sklearn.feature_extraction.text import TfidfVectorizer\n",
        "from sklearn.model_selection import train_test_split\n",
        "from sklearn import preprocessing, metrics, naive_bayes, linear_model\n",
        "\n",
        "# Download dataset NLTK yang diperlukan\n",
        "nltk.download('stopwords')\n",
        "nltk.download('wordnet')\n",
        "\n",
        "\n",
        "# Download dataset dari Kaggle atau unggah file spam.csv ke Google Colab\n",
        "df = pd.read_csv(\"spam.csv\", encoding='latin1')\n",
        "\n",
        "# Hanya ambil kolom yang diperlukan\n",
        "df = df[['v1', 'v2']]\n",
        "df.columns = ['Target', 'Email']\n",
        "\n",
        "# Cek 5 baris pertama\n",
        "print(df.head())\n",
        "\n",
        "\n",
        "# Konversi teks ke huruf kecil\n",
        "df['Email'] = df['Email'].apply(lambda x: \" \".join(x.lower() for x in x.split()))\n",
        "\n",
        "# Hapus stopwords\n",
        "stop = set(stopwords.words('english'))\n",
        "df['Email'] = df['Email'].apply(lambda x: \" \".join(word for word in x.split() if word not in stop))\n",
        "\n",
        "# Stemming\n",
        "st = PorterStemmer()\n",
        "df['Email'] = df['Email'].apply(lambda x: \" \".join(st.stem(word) for word in x.split()))\n",
        "\n",
        "# Lemmatization\n",
        "df['Email'] = df['Email'].apply(lambda x: \" \".join(Word(word).lemmatize() for word in x.split()))\n",
        "\n",
        "# Cek hasil preprocessing\n",
        "print(df.head())\n",
        "\n",
        "\n",
        "# Split data menjadi train dan test\n",
        "train_x, valid_x, train_y, valid_y = train_test_split(df['Email'], df['Target'], test_size=0.2, random_state=42)\n",
        "\n",
        "# Encoding label (spam = 1, ham = 0)\n",
        "encoder = preprocessing.LabelEncoder()\n",
        "train_y = encoder.fit_transform(train_y)\n",
        "valid_y = encoder.transform(valid_y)\n",
        "\n",
        "# TF-IDF Vectorization\n",
        "tfidf_vect = TfidfVectorizer(analyzer='word', token_pattern=r'\\w{1,}', max_features=5000)\n",
        "tfidf_vect.fit(df['Email'])\n",
        "\n",
        "xtrain_tfidf = tfidf_vect.transform(train_x)\n",
        "xvalid_tfidf = tfidf_vect.transform(valid_x)\n",
        "\n",
        "\n",
        "# Fungsi untuk melatih model\n",
        "def train_model(classifier, feature_vector_train, label, feature_vector_valid):\n",
        "    classifier.fit(feature_vector_train, label)\n",
        "    predictions = classifier.predict(feature_vector_valid)\n",
        "    return metrics.accuracy_score(predictions, valid_y)\n",
        "\n",
        "# Naive Bayes Model\n",
        "nb_model = naive_bayes.MultinomialNB(alpha=0.2)\n",
        "nb_accuracy = train_model(nb_model, xtrain_tfidf, train_y, xvalid_tfidf)\n",
        "print(f\"Naive Bayes Accuracy: {nb_accuracy:.4f}\")\n",
        "\n",
        "\n",
        "# Logistic Regression Model\n",
        "lr_model = linear_model.LogisticRegression()\n",
        "lr_accuracy = train_model(lr_model, xtrain_tfidf, train_y, xvalid_tfidf)\n",
        "print(f\"Logistic Regression Accuracy: {lr_accuracy:.4f}\")\n"
      ],
      "metadata": {
        "colab": {
          "base_uri": "https://localhost:8080/",
          "height": 489
        },
        "id": "UlHIE4lcXbWr",
        "outputId": "2a079631-19f1-4a7e-88b7-2b80af445f58"
      },
      "execution_count": null,
      "outputs": [
        {
          "output_type": "stream",
          "name": "stdout",
          "text": [
            "Requirement already satisfied: textblob in /usr/local/lib/python3.11/dist-packages (0.19.0)\n",
            "Requirement already satisfied: nltk>=3.9 in /usr/local/lib/python3.11/dist-packages (from textblob) (3.9.1)\n",
            "Requirement already satisfied: click in /usr/local/lib/python3.11/dist-packages (from nltk>=3.9->textblob) (8.1.8)\n",
            "Requirement already satisfied: joblib in /usr/local/lib/python3.11/dist-packages (from nltk>=3.9->textblob) (1.4.2)\n",
            "Requirement already satisfied: regex>=2021.8.3 in /usr/local/lib/python3.11/dist-packages (from nltk>=3.9->textblob) (2024.11.6)\n",
            "Requirement already satisfied: tqdm in /usr/local/lib/python3.11/dist-packages (from nltk>=3.9->textblob) (4.67.1)\n"
          ]
        },
        {
          "output_type": "display_data",
          "data": {
            "text/plain": [
              "<IPython.core.display.HTML object>"
            ],
            "text/html": [
              "\n",
              "     <input type=\"file\" id=\"files-eb9b91de-bad8-44fd-abef-39eabad1d1ee\" name=\"files[]\" multiple disabled\n",
              "        style=\"border:none\" />\n",
              "     <output id=\"result-eb9b91de-bad8-44fd-abef-39eabad1d1ee\">\n",
              "      Upload widget is only available when the cell has been executed in the\n",
              "      current browser session. Please rerun this cell to enable.\n",
              "      </output>\n",
              "      <script>// Copyright 2017 Google LLC\n",
              "//\n",
              "// Licensed under the Apache License, Version 2.0 (the \"License\");\n",
              "// you may not use this file except in compliance with the License.\n",
              "// You may obtain a copy of the License at\n",
              "//\n",
              "//      http://www.apache.org/licenses/LICENSE-2.0\n",
              "//\n",
              "// Unless required by applicable law or agreed to in writing, software\n",
              "// distributed under the License is distributed on an \"AS IS\" BASIS,\n",
              "// WITHOUT WARRANTIES OR CONDITIONS OF ANY KIND, either express or implied.\n",
              "// See the License for the specific language governing permissions and\n",
              "// limitations under the License.\n",
              "\n",
              "/**\n",
              " * @fileoverview Helpers for google.colab Python module.\n",
              " */\n",
              "(function(scope) {\n",
              "function span(text, styleAttributes = {}) {\n",
              "  const element = document.createElement('span');\n",
              "  element.textContent = text;\n",
              "  for (const key of Object.keys(styleAttributes)) {\n",
              "    element.style[key] = styleAttributes[key];\n",
              "  }\n",
              "  return element;\n",
              "}\n",
              "\n",
              "// Max number of bytes which will be uploaded at a time.\n",
              "const MAX_PAYLOAD_SIZE = 100 * 1024;\n",
              "\n",
              "function _uploadFiles(inputId, outputId) {\n",
              "  const steps = uploadFilesStep(inputId, outputId);\n",
              "  const outputElement = document.getElementById(outputId);\n",
              "  // Cache steps on the outputElement to make it available for the next call\n",
              "  // to uploadFilesContinue from Python.\n",
              "  outputElement.steps = steps;\n",
              "\n",
              "  return _uploadFilesContinue(outputId);\n",
              "}\n",
              "\n",
              "// This is roughly an async generator (not supported in the browser yet),\n",
              "// where there are multiple asynchronous steps and the Python side is going\n",
              "// to poll for completion of each step.\n",
              "// This uses a Promise to block the python side on completion of each step,\n",
              "// then passes the result of the previous step as the input to the next step.\n",
              "function _uploadFilesContinue(outputId) {\n",
              "  const outputElement = document.getElementById(outputId);\n",
              "  const steps = outputElement.steps;\n",
              "\n",
              "  const next = steps.next(outputElement.lastPromiseValue);\n",
              "  return Promise.resolve(next.value.promise).then((value) => {\n",
              "    // Cache the last promise value to make it available to the next\n",
              "    // step of the generator.\n",
              "    outputElement.lastPromiseValue = value;\n",
              "    return next.value.response;\n",
              "  });\n",
              "}\n",
              "\n",
              "/**\n",
              " * Generator function which is called between each async step of the upload\n",
              " * process.\n",
              " * @param {string} inputId Element ID of the input file picker element.\n",
              " * @param {string} outputId Element ID of the output display.\n",
              " * @return {!Iterable<!Object>} Iterable of next steps.\n",
              " */\n",
              "function* uploadFilesStep(inputId, outputId) {\n",
              "  const inputElement = document.getElementById(inputId);\n",
              "  inputElement.disabled = false;\n",
              "\n",
              "  const outputElement = document.getElementById(outputId);\n",
              "  outputElement.innerHTML = '';\n",
              "\n",
              "  const pickedPromise = new Promise((resolve) => {\n",
              "    inputElement.addEventListener('change', (e) => {\n",
              "      resolve(e.target.files);\n",
              "    });\n",
              "  });\n",
              "\n",
              "  const cancel = document.createElement('button');\n",
              "  inputElement.parentElement.appendChild(cancel);\n",
              "  cancel.textContent = 'Cancel upload';\n",
              "  const cancelPromise = new Promise((resolve) => {\n",
              "    cancel.onclick = () => {\n",
              "      resolve(null);\n",
              "    };\n",
              "  });\n",
              "\n",
              "  // Wait for the user to pick the files.\n",
              "  const files = yield {\n",
              "    promise: Promise.race([pickedPromise, cancelPromise]),\n",
              "    response: {\n",
              "      action: 'starting',\n",
              "    }\n",
              "  };\n",
              "\n",
              "  cancel.remove();\n",
              "\n",
              "  // Disable the input element since further picks are not allowed.\n",
              "  inputElement.disabled = true;\n",
              "\n",
              "  if (!files) {\n",
              "    return {\n",
              "      response: {\n",
              "        action: 'complete',\n",
              "      }\n",
              "    };\n",
              "  }\n",
              "\n",
              "  for (const file of files) {\n",
              "    const li = document.createElement('li');\n",
              "    li.append(span(file.name, {fontWeight: 'bold'}));\n",
              "    li.append(span(\n",
              "        `(${file.type || 'n/a'}) - ${file.size} bytes, ` +\n",
              "        `last modified: ${\n",
              "            file.lastModifiedDate ? file.lastModifiedDate.toLocaleDateString() :\n",
              "                                    'n/a'} - `));\n",
              "    const percent = span('0% done');\n",
              "    li.appendChild(percent);\n",
              "\n",
              "    outputElement.appendChild(li);\n",
              "\n",
              "    const fileDataPromise = new Promise((resolve) => {\n",
              "      const reader = new FileReader();\n",
              "      reader.onload = (e) => {\n",
              "        resolve(e.target.result);\n",
              "      };\n",
              "      reader.readAsArrayBuffer(file);\n",
              "    });\n",
              "    // Wait for the data to be ready.\n",
              "    let fileData = yield {\n",
              "      promise: fileDataPromise,\n",
              "      response: {\n",
              "        action: 'continue',\n",
              "      }\n",
              "    };\n",
              "\n",
              "    // Use a chunked sending to avoid message size limits. See b/62115660.\n",
              "    let position = 0;\n",
              "    do {\n",
              "      const length = Math.min(fileData.byteLength - position, MAX_PAYLOAD_SIZE);\n",
              "      const chunk = new Uint8Array(fileData, position, length);\n",
              "      position += length;\n",
              "\n",
              "      const base64 = btoa(String.fromCharCode.apply(null, chunk));\n",
              "      yield {\n",
              "        response: {\n",
              "          action: 'append',\n",
              "          file: file.name,\n",
              "          data: base64,\n",
              "        },\n",
              "      };\n",
              "\n",
              "      let percentDone = fileData.byteLength === 0 ?\n",
              "          100 :\n",
              "          Math.round((position / fileData.byteLength) * 100);\n",
              "      percent.textContent = `${percentDone}% done`;\n",
              "\n",
              "    } while (position < fileData.byteLength);\n",
              "  }\n",
              "\n",
              "  // All done.\n",
              "  yield {\n",
              "    response: {\n",
              "      action: 'complete',\n",
              "    }\n",
              "  };\n",
              "}\n",
              "\n",
              "scope.google = scope.google || {};\n",
              "scope.google.colab = scope.google.colab || {};\n",
              "scope.google.colab._files = {\n",
              "  _uploadFiles,\n",
              "  _uploadFilesContinue,\n",
              "};\n",
              "})(self);\n",
              "</script> "
            ]
          },
          "metadata": {}
        },
        {
          "output_type": "stream",
          "name": "stdout",
          "text": [
            "Saving spam.csv to spam.csv\n",
            "  Target                                              Email\n",
            "0    ham  Go until jurong point, crazy.. Available only ...\n",
            "1    ham                      Ok lar... Joking wif u oni...\n",
            "2   spam  Free entry in 2 a wkly comp to win FA Cup fina...\n",
            "3    ham  U dun say so early hor... U c already then say...\n",
            "4    ham  Nah I don't think he goes to usf, he lives aro...\n"
          ]
        },
        {
          "output_type": "stream",
          "name": "stderr",
          "text": [
            "[nltk_data] Downloading package stopwords to /root/nltk_data...\n",
            "[nltk_data]   Package stopwords is already up-to-date!\n",
            "[nltk_data] Downloading package wordnet to /root/nltk_data...\n",
            "[nltk_data]   Package wordnet is already up-to-date!\n"
          ]
        },
        {
          "output_type": "stream",
          "name": "stdout",
          "text": [
            "  Target                                              Email\n",
            "0    ham  go jurong point, crazy.. avail bugi n great wo...\n",
            "1    ham                        ok lar... joke wif u oni...\n",
            "2   spam  free entri 2 wkli comp win fa cup final tkt 21...\n",
            "3    ham          u dun say earli hor... u c alreadi say...\n",
            "4    ham              nah think goe usf, live around though\n",
            "Naive Bayes Accuracy: 0.9874\n",
            "Logistic Regression Accuracy: 0.9534\n"
          ]
        }
      ]
    },
    {
      "cell_type": "markdown",
      "source": [
        "CARRYING OUT SENTIMENT ANALYSIS"
      ],
      "metadata": {
        "id": "ASu1IM6UYjmJ"
      }
    },
    {
      "cell_type": "code",
      "source": [
        "# Import library yang diperlukan\n",
        "from textblob import TextBlob\n",
        "\n",
        "# Data contoh\n",
        "review1 = \"I like this phone. Screen quality and camera clarity is really good.\"\n",
        "review2 = \"This TV is not good. Bad quality, no clarity, worst experience.\"\n",
        "\n",
        "# Analisis Sentimen menggunakan TextBlob\n",
        "blob1 = TextBlob(review1)\n",
        "blob2 = TextBlob(review2)\n",
        "\n",
        "# Menampilkan hasil sentimen\n",
        "print(\"Review 1 Sentiment:\", blob1.sentiment)\n",
        "print(\"Review 2 Sentiment:\", blob2.sentiment)\n"
      ],
      "metadata": {
        "colab": {
          "base_uri": "https://localhost:8080/"
        },
        "id": "u5glAB7UYpnp",
        "outputId": "dd963ef2-edfa-4c68-f294-dd56fef4e31f"
      },
      "execution_count": null,
      "outputs": [
        {
          "output_type": "stream",
          "name": "stdout",
          "text": [
            "Review 1 Sentiment: Sentiment(polarity=0.7, subjectivity=0.6000000000000001)\n",
            "Review 2 Sentiment: Sentiment(polarity=-0.6833333333333332, subjectivity=0.7555555555555555)\n"
          ]
        }
      ]
    },
    {
      "cell_type": "markdown",
      "source": [
        "DISAMBIGUATING TEXT"
      ],
      "metadata": {
        "id": "qVyCOoicY0Ol"
      }
    },
    {
      "cell_type": "code",
      "source": [
        "# Install pywsd jika belum terinstal\n",
        "!pip install pywsd\n",
        "\n",
        "# Import library yang diperlukan\n",
        "from nltk.corpus import wordnet as wn\n",
        "from pywsd.lesk import simple_lesk\n",
        "\n",
        "# Kalimat contoh dengan kata \"bank\" yang memiliki makna berbeda\n",
        "bank_sents = [\n",
        "    \"I went to the bank to deposit my money\",\n",
        "    \"The river bank was full of dead fishes\"\n",
        "]\n",
        "\n",
        "# Disambiguasi makna kata \"bank\" dalam dua konteks\n",
        "print(\"Context-1:\", bank_sents[0])\n",
        "answer1 = simple_lesk(bank_sents[0], 'bank')\n",
        "print(\"Sense:\", answer1)\n",
        "print(\"Definition:\", answer1.definition())\n",
        "\n",
        "print(\"\\nContext-2:\", bank_sents[1])\n",
        "answer2 = simple_lesk(bank_sents[1], 'bank', 'n')\n",
        "print(\"Sense:\", answer2)\n",
        "print(\"Definition:\", answer2.definition())\n"
      ],
      "metadata": {
        "colab": {
          "base_uri": "https://localhost:8080/"
        },
        "id": "h-J8Cic_Y7ft",
        "outputId": "bdcd45a1-8afe-4e3f-de71-9bc306f7757c"
      },
      "execution_count": null,
      "outputs": [
        {
          "output_type": "stream",
          "name": "stdout",
          "text": [
            "Collecting pywsd\n",
            "  Downloading pywsd-1.2.5-py3-none-any.whl.metadata (336 bytes)\n",
            "Requirement already satisfied: nltk in /usr/local/lib/python3.11/dist-packages (from pywsd) (3.9.1)\n",
            "Requirement already satisfied: numpy in /usr/local/lib/python3.11/dist-packages (from pywsd) (1.26.4)\n",
            "Requirement already satisfied: pandas in /usr/local/lib/python3.11/dist-packages (from pywsd) (2.2.2)\n",
            "Collecting wn==0.0.23 (from pywsd)\n",
            "  Downloading wn-0.0.23.tar.gz (31.6 MB)\n",
            "\u001b[2K     \u001b[90m━━━━━━━━━━━━━━━━━━━━━━━━━━━━━━━━━━━━━━━━\u001b[0m \u001b[32m31.6/31.6 MB\u001b[0m \u001b[31m6.1 MB/s\u001b[0m eta \u001b[36m0:00:00\u001b[0m\n",
            "\u001b[?25h  Preparing metadata (setup.py) ... \u001b[?25l\u001b[?25hdone\n",
            "Requirement already satisfied: six in /usr/local/lib/python3.11/dist-packages (from pywsd) (1.17.0)\n",
            "Requirement already satisfied: click in /usr/local/lib/python3.11/dist-packages (from nltk->pywsd) (8.1.8)\n",
            "Requirement already satisfied: joblib in /usr/local/lib/python3.11/dist-packages (from nltk->pywsd) (1.4.2)\n",
            "Requirement already satisfied: regex>=2021.8.3 in /usr/local/lib/python3.11/dist-packages (from nltk->pywsd) (2024.11.6)\n",
            "Requirement already satisfied: tqdm in /usr/local/lib/python3.11/dist-packages (from nltk->pywsd) (4.67.1)\n",
            "Requirement already satisfied: python-dateutil>=2.8.2 in /usr/local/lib/python3.11/dist-packages (from pandas->pywsd) (2.8.2)\n",
            "Requirement already satisfied: pytz>=2020.1 in /usr/local/lib/python3.11/dist-packages (from pandas->pywsd) (2025.1)\n",
            "Requirement already satisfied: tzdata>=2022.7 in /usr/local/lib/python3.11/dist-packages (from pandas->pywsd) (2025.1)\n",
            "Downloading pywsd-1.2.5-py3-none-any.whl (26.9 MB)\n",
            "\u001b[2K   \u001b[90m━━━━━━━━━━━━━━━━━━━━━━━━━━━━━━━━━━━━━━━━\u001b[0m \u001b[32m26.9/26.9 MB\u001b[0m \u001b[31m14.1 MB/s\u001b[0m eta \u001b[36m0:00:00\u001b[0m\n",
            "\u001b[?25hBuilding wheels for collected packages: wn\n",
            "  Building wheel for wn (setup.py) ... \u001b[?25l\u001b[?25hdone\n",
            "  Created wheel for wn: filename=wn-0.0.23-py3-none-any.whl size=31792913 sha256=b445bd0876ad6e1594aac1f6fbae1ec495b7e6af048f0b9b45395f7524cc58e9\n",
            "  Stored in directory: /root/.cache/pip/wheels/0e/c8/a5/b34ab6ee7e022f7a6fe85ba73cbc7ef5b657578aceffbe0f14\n",
            "Successfully built wn\n",
            "Installing collected packages: wn, pywsd\n",
            "Successfully installed pywsd-1.2.5 wn-0.0.23\n"
          ]
        },
        {
          "output_type": "stream",
          "name": "stderr",
          "text": [
            "Warming up PyWSD (takes ~10 secs)... "
          ]
        },
        {
          "output_type": "stream",
          "name": "stdout",
          "text": [
            "Context-1: I went to the bank to deposit my money\n",
            "Sense: Synset('depository_financial_institution.n.01')\n",
            "Definition: a financial institution that accepts deposits and channels the money into lending activities\n",
            "\n",
            "Context-2: The river bank was full of dead fishes\n",
            "Sense: Synset('bank.n.01')\n",
            "Definition: sloping land (especially the slope beside a body of water)\n"
          ]
        },
        {
          "output_type": "stream",
          "name": "stderr",
          "text": [
            "took 5.254347801208496 secs.\n"
          ]
        }
      ]
    },
    {
      "cell_type": "markdown",
      "source": [
        "CONVERTING SPEECH TO TEXT (MASIH ERROR)"
      ],
      "metadata": {
        "id": "5i6fUG13Zi58"
      }
    },
    {
      "cell_type": "code",
      "source": [
        "# Instal pustaka yang diperlukan dalam urutan yang benar\n",
        "!apt-get install -y portaudio19-dev\n",
        "!pip install pyaudio speechrecognition\n",
        "\n",
        "# Import library\n",
        "import speech_recognition as sr\n",
        "\n",
        "# Inisialisasi recognizer\n",
        "r = sr.Recognizer()\n",
        "\n",
        "# Gunakan mikrofon sebagai sumber input suara\n",
        "with sr.Microphone() as source:\n",
        "    print(\"Silakan ucapkan sesuatu...\")\n",
        "    try:\n",
        "        audio = r.listen(source, timeout=5)  # Timeout untuk menghindari macet\n",
        "        print(\"Waktu habis, terima kasih.\")\n",
        "    except sr.WaitTimeoutError:\n",
        "        print(\"Tidak ada suara yang terdeteksi, coba lagi.\")\n",
        "        exit()\n",
        "\n",
        "# Konversi suara ke teks menggunakan Google Speech Recognition\n",
        "try:\n",
        "    text = r.recognize_google(audio, language=\"id-ID\")  # Gunakan Bahasa Indonesia\n",
        "    print(\"Saya pikir Anda mengatakan:\", text)\n",
        "except sr.UnknownValueError:\n",
        "    print(\"Google Speech Recognition tidak dapat memahami audio\")\n",
        "except sr.RequestError as e:\n",
        "    print(f\"Tidak dapat meminta hasil dari layanan Google Speech Recognition; {e}\")\n",
        "except Exception as e:\n",
        "    print(f\"Terjadi kesalahan: {e}\")\n"
      ],
      "metadata": {
        "colab": {
          "base_uri": "https://localhost:8080/",
          "height": 495
        },
        "id": "tDJiB-eXZl52",
        "outputId": "ecca6312-3415-4ee4-f765-9c87b3e3380d"
      },
      "execution_count": null,
      "outputs": [
        {
          "output_type": "stream",
          "name": "stdout",
          "text": [
            "Reading package lists... Done\n",
            "Building dependency tree... Done\n",
            "Reading state information... Done\n",
            "portaudio19-dev is already the newest version (19.6.0-1.1).\n",
            "0 upgraded, 0 newly installed, 0 to remove and 29 not upgraded.\n",
            "Requirement already satisfied: pyaudio in /usr/local/lib/python3.11/dist-packages (0.2.14)\n",
            "Requirement already satisfied: speechrecognition in /usr/local/lib/python3.11/dist-packages (3.14.1)\n",
            "Requirement already satisfied: typing-extensions in /usr/local/lib/python3.11/dist-packages (from speechrecognition) (4.12.2)\n"
          ]
        },
        {
          "output_type": "error",
          "ename": "OSError",
          "evalue": "No Default Input Device Available",
          "traceback": [
            "\u001b[0;31m---------------------------------------------------------------------------\u001b[0m",
            "\u001b[0;31mOSError\u001b[0m                                   Traceback (most recent call last)",
            "\u001b[0;32m<ipython-input-24-e4b3e4aab88e>\u001b[0m in \u001b[0;36m<cell line: 0>\u001b[0;34m()\u001b[0m\n\u001b[1;32m     10\u001b[0m \u001b[0;34m\u001b[0m\u001b[0m\n\u001b[1;32m     11\u001b[0m \u001b[0;31m# Gunakan mikrofon sebagai sumber input suara\u001b[0m\u001b[0;34m\u001b[0m\u001b[0;34m\u001b[0m\u001b[0m\n\u001b[0;32m---> 12\u001b[0;31m \u001b[0;32mwith\u001b[0m \u001b[0msr\u001b[0m\u001b[0;34m.\u001b[0m\u001b[0mMicrophone\u001b[0m\u001b[0;34m(\u001b[0m\u001b[0;34m)\u001b[0m \u001b[0;32mas\u001b[0m \u001b[0msource\u001b[0m\u001b[0;34m:\u001b[0m\u001b[0;34m\u001b[0m\u001b[0;34m\u001b[0m\u001b[0m\n\u001b[0m\u001b[1;32m     13\u001b[0m     \u001b[0mprint\u001b[0m\u001b[0;34m(\u001b[0m\u001b[0;34m\"Silakan ucapkan sesuatu...\"\u001b[0m\u001b[0;34m)\u001b[0m\u001b[0;34m\u001b[0m\u001b[0;34m\u001b[0m\u001b[0m\n\u001b[1;32m     14\u001b[0m     \u001b[0;32mtry\u001b[0m\u001b[0;34m:\u001b[0m\u001b[0;34m\u001b[0m\u001b[0;34m\u001b[0m\u001b[0m\n",
            "\u001b[0;32m/usr/local/lib/python3.11/dist-packages/speech_recognition/__init__.py\u001b[0m in \u001b[0;36m__init__\u001b[0;34m(self, device_index, sample_rate, chunk_size)\u001b[0m\n\u001b[1;32m     80\u001b[0m                 \u001b[0;32massert\u001b[0m \u001b[0;36m0\u001b[0m \u001b[0;34m<=\u001b[0m \u001b[0mdevice_index\u001b[0m \u001b[0;34m<\u001b[0m \u001b[0mcount\u001b[0m\u001b[0;34m,\u001b[0m \u001b[0;34m\"Device index out of range ({} devices available; device index should be between 0 and {} inclusive)\"\u001b[0m\u001b[0;34m.\u001b[0m\u001b[0mformat\u001b[0m\u001b[0;34m(\u001b[0m\u001b[0mcount\u001b[0m\u001b[0;34m,\u001b[0m \u001b[0mcount\u001b[0m \u001b[0;34m-\u001b[0m \u001b[0;36m1\u001b[0m\u001b[0;34m)\u001b[0m\u001b[0;34m\u001b[0m\u001b[0;34m\u001b[0m\u001b[0m\n\u001b[1;32m     81\u001b[0m             \u001b[0;32mif\u001b[0m \u001b[0msample_rate\u001b[0m \u001b[0;32mis\u001b[0m \u001b[0;32mNone\u001b[0m\u001b[0;34m:\u001b[0m  \u001b[0;31m# automatically set the sample rate to the hardware's default sample rate if not specified\u001b[0m\u001b[0;34m\u001b[0m\u001b[0;34m\u001b[0m\u001b[0m\n\u001b[0;32m---> 82\u001b[0;31m                 \u001b[0mdevice_info\u001b[0m \u001b[0;34m=\u001b[0m \u001b[0maudio\u001b[0m\u001b[0;34m.\u001b[0m\u001b[0mget_device_info_by_index\u001b[0m\u001b[0;34m(\u001b[0m\u001b[0mdevice_index\u001b[0m\u001b[0;34m)\u001b[0m \u001b[0;32mif\u001b[0m \u001b[0mdevice_index\u001b[0m \u001b[0;32mis\u001b[0m \u001b[0;32mnot\u001b[0m \u001b[0;32mNone\u001b[0m \u001b[0;32melse\u001b[0m \u001b[0maudio\u001b[0m\u001b[0;34m.\u001b[0m\u001b[0mget_default_input_device_info\u001b[0m\u001b[0;34m(\u001b[0m\u001b[0;34m)\u001b[0m\u001b[0;34m\u001b[0m\u001b[0;34m\u001b[0m\u001b[0m\n\u001b[0m\u001b[1;32m     83\u001b[0m                 \u001b[0;32massert\u001b[0m \u001b[0misinstance\u001b[0m\u001b[0;34m(\u001b[0m\u001b[0mdevice_info\u001b[0m\u001b[0;34m.\u001b[0m\u001b[0mget\u001b[0m\u001b[0;34m(\u001b[0m\u001b[0;34m\"defaultSampleRate\"\u001b[0m\u001b[0;34m)\u001b[0m\u001b[0;34m,\u001b[0m \u001b[0;34m(\u001b[0m\u001b[0mfloat\u001b[0m\u001b[0;34m,\u001b[0m \u001b[0mint\u001b[0m\u001b[0;34m)\u001b[0m\u001b[0;34m)\u001b[0m \u001b[0;32mand\u001b[0m \u001b[0mdevice_info\u001b[0m\u001b[0;34m[\u001b[0m\u001b[0;34m\"defaultSampleRate\"\u001b[0m\u001b[0;34m]\u001b[0m \u001b[0;34m>\u001b[0m \u001b[0;36m0\u001b[0m\u001b[0;34m,\u001b[0m \u001b[0;34m\"Invalid device info returned from PyAudio: {}\"\u001b[0m\u001b[0;34m.\u001b[0m\u001b[0mformat\u001b[0m\u001b[0;34m(\u001b[0m\u001b[0mdevice_info\u001b[0m\u001b[0;34m)\u001b[0m\u001b[0;34m\u001b[0m\u001b[0;34m\u001b[0m\u001b[0m\n\u001b[1;32m     84\u001b[0m                 \u001b[0msample_rate\u001b[0m \u001b[0;34m=\u001b[0m \u001b[0mint\u001b[0m\u001b[0;34m(\u001b[0m\u001b[0mdevice_info\u001b[0m\u001b[0;34m[\u001b[0m\u001b[0;34m\"defaultSampleRate\"\u001b[0m\u001b[0;34m]\u001b[0m\u001b[0;34m)\u001b[0m\u001b[0;34m\u001b[0m\u001b[0;34m\u001b[0m\u001b[0m\n",
            "\u001b[0;32m/usr/local/lib/python3.11/dist-packages/pyaudio/__init__.py\u001b[0m in \u001b[0;36mget_default_input_device_info\u001b[0;34m(self)\u001b[0m\n\u001b[1;32m    810\u001b[0m         \u001b[0;34m:\u001b[0m\u001b[0mrtype\u001b[0m\u001b[0;34m:\u001b[0m \u001b[0mdict\u001b[0m\u001b[0;34m\u001b[0m\u001b[0;34m\u001b[0m\u001b[0m\n\u001b[1;32m    811\u001b[0m         \"\"\"\n\u001b[0;32m--> 812\u001b[0;31m         \u001b[0mdevice_index\u001b[0m \u001b[0;34m=\u001b[0m \u001b[0mpa\u001b[0m\u001b[0;34m.\u001b[0m\u001b[0mget_default_input_device\u001b[0m\u001b[0;34m(\u001b[0m\u001b[0;34m)\u001b[0m\u001b[0;34m\u001b[0m\u001b[0;34m\u001b[0m\u001b[0m\n\u001b[0m\u001b[1;32m    813\u001b[0m         \u001b[0;32mreturn\u001b[0m \u001b[0mself\u001b[0m\u001b[0;34m.\u001b[0m\u001b[0mget_device_info_by_index\u001b[0m\u001b[0;34m(\u001b[0m\u001b[0mdevice_index\u001b[0m\u001b[0;34m)\u001b[0m\u001b[0;34m\u001b[0m\u001b[0;34m\u001b[0m\u001b[0m\n\u001b[1;32m    814\u001b[0m \u001b[0;34m\u001b[0m\u001b[0m\n",
            "\u001b[0;31mOSError\u001b[0m: No Default Input Device Available"
          ]
        }
      ]
    },
    {
      "cell_type": "markdown",
      "source": [
        "CONVERTING TEXT TO SPEECH"
      ],
      "metadata": {
        "id": "F7f6Z5jhgGbC"
      }
    },
    {
      "cell_type": "code",
      "source": [
        "# Install pustaka yang diperlukan\n",
        "!pip install gtts\n",
        "\n",
        "# Import library\n",
        "from gtts import gTTS\n",
        "from IPython.display import Audio\n",
        "\n",
        "# Teks yang akan dikonversi ke suara\n",
        "text = \"wkwkwkwkwkwkwwkwk\"\n",
        "\n",
        "# Pilih bahasa (contoh: 'id' untuk Bahasa Indonesia, 'en' untuk English)\n",
        "tts = gTTS(text=text, lang='id', slow=False)\n",
        "\n",
        "# Simpan sebagai file MP3\n",
        "tts.save(\"output.mp3\")\n",
        "\n",
        "# Memutar audio langsung di Google Colab\n",
        "Audio(\"output.mp3\", autoplay=True)\n"
      ],
      "metadata": {
        "colab": {
          "base_uri": "https://localhost:8080/",
          "height": 197
        },
        "id": "xPIODvm2grsW",
        "outputId": "1b667665-af08-4042-aa7d-960cfa77ef39"
      },
      "execution_count": null,
      "outputs": [
        {
          "output_type": "stream",
          "name": "stdout",
          "text": [
            "Requirement already satisfied: gtts in /usr/local/lib/python3.11/dist-packages (2.5.4)\n",
            "Requirement already satisfied: requests<3,>=2.27 in /usr/local/lib/python3.11/dist-packages (from gtts) (2.32.3)\n",
            "Requirement already satisfied: click<8.2,>=7.1 in /usr/local/lib/python3.11/dist-packages (from gtts) (8.1.8)\n",
            "Requirement already satisfied: charset-normalizer<4,>=2 in /usr/local/lib/python3.11/dist-packages (from requests<3,>=2.27->gtts) (3.4.1)\n",
            "Requirement already satisfied: idna<4,>=2.5 in /usr/local/lib/python3.11/dist-packages (from requests<3,>=2.27->gtts) (3.10)\n",
            "Requirement already satisfied: urllib3<3,>=1.21.1 in /usr/local/lib/python3.11/dist-packages (from requests<3,>=2.27->gtts) (2.3.0)\n",
            "Requirement already satisfied: certifi>=2017.4.17 in /usr/local/lib/python3.11/dist-packages (from requests<3,>=2.27->gtts) (2025.1.31)\n"
          ]
        },
        {
          "output_type": "execute_result",
          "data": {
            "text/plain": [
              "<IPython.lib.display.Audio object>"
            ],
            "text/html": [
              "\n",
              "                <audio  controls=\"controls\" autoplay=\"autoplay\">\n",
              "                    <source src=\"data:audio/mpeg;base64,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\" type=\"audio/mpeg\" />\n",
              "                    Your browser does not support the audio element.\n",
              "                </audio>\n",
              "              "
            ]
          },
          "metadata": {},
          "execution_count": 27
        }
      ]
    },
    {
      "cell_type": "markdown",
      "source": [
        "TRANSLATING SPEECH"
      ],
      "metadata": {
        "id": "ohvWCT-2hMWn"
      }
    },
    {
      "cell_type": "code",
      "source": [
        "# Install pustaka yang diperlukan\n",
        "!pip install googletrans==4.0.0-rc1\n",
        "\n",
        "# Import library\n",
        "from googletrans import Translator\n",
        "\n",
        "# Inisialisasi translator\n",
        "translator = Translator()\n",
        "\n",
        "# Teks yang akan diterjemahkan\n",
        "text = \"Bonjour le monde\"\n",
        "\n",
        "# Menerjemahkan teks ke bahasa Inggris ('en')\n",
        "translated_text = translator.translate(text, dest='en')\n",
        "\n",
        "# Menampilkan hasil terjemahan\n",
        "print(\"Teks asli:\", text)\n",
        "print(\"Terjemahan:\", translated_text.text)\n"
      ],
      "metadata": {
        "colab": {
          "base_uri": "https://localhost:8080/"
        },
        "id": "axEDbjo-hO8E",
        "outputId": "11d3d0a6-d072-44fe-d7b0-9720eb84748c"
      },
      "execution_count": null,
      "outputs": [
        {
          "output_type": "stream",
          "name": "stdout",
          "text": [
            "Requirement already satisfied: googletrans==4.0.0-rc1 in /usr/local/lib/python3.11/dist-packages (4.0.0rc1)\n",
            "Requirement already satisfied: httpx==0.13.3 in /usr/local/lib/python3.11/dist-packages (from googletrans==4.0.0-rc1) (0.13.3)\n",
            "Requirement already satisfied: certifi in /usr/local/lib/python3.11/dist-packages (from httpx==0.13.3->googletrans==4.0.0-rc1) (2025.1.31)\n",
            "Requirement already satisfied: hstspreload in /usr/local/lib/python3.11/dist-packages (from httpx==0.13.3->googletrans==4.0.0-rc1) (2025.1.1)\n",
            "Requirement already satisfied: sniffio in /usr/local/lib/python3.11/dist-packages (from httpx==0.13.3->googletrans==4.0.0-rc1) (1.3.1)\n",
            "Requirement already satisfied: chardet==3.* in /usr/local/lib/python3.11/dist-packages (from httpx==0.13.3->googletrans==4.0.0-rc1) (3.0.4)\n",
            "Requirement already satisfied: idna==2.* in /usr/local/lib/python3.11/dist-packages (from httpx==0.13.3->googletrans==4.0.0-rc1) (2.10)\n",
            "Requirement already satisfied: rfc3986<2,>=1.3 in /usr/local/lib/python3.11/dist-packages (from httpx==0.13.3->googletrans==4.0.0-rc1) (1.5.0)\n",
            "Requirement already satisfied: httpcore==0.9.* in /usr/local/lib/python3.11/dist-packages (from httpx==0.13.3->googletrans==4.0.0-rc1) (0.9.1)\n",
            "Requirement already satisfied: h11<0.10,>=0.8 in /usr/local/lib/python3.11/dist-packages (from httpcore==0.9.*->httpx==0.13.3->googletrans==4.0.0-rc1) (0.9.0)\n",
            "Requirement already satisfied: h2==3.* in /usr/local/lib/python3.11/dist-packages (from httpcore==0.9.*->httpx==0.13.3->googletrans==4.0.0-rc1) (3.2.0)\n",
            "Requirement already satisfied: hyperframe<6,>=5.2.0 in /usr/local/lib/python3.11/dist-packages (from h2==3.*->httpcore==0.9.*->httpx==0.13.3->googletrans==4.0.0-rc1) (5.2.0)\n",
            "Requirement already satisfied: hpack<4,>=3.0 in /usr/local/lib/python3.11/dist-packages (from h2==3.*->httpcore==0.9.*->httpx==0.13.3->googletrans==4.0.0-rc1) (3.0.0)\n",
            "Teks asli: Bonjour le monde\n",
            "Terjemahan: Hello world\n"
          ]
        }
      ]
    }
  ]
}